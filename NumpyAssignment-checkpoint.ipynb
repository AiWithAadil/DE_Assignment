{
 "cells": [
  {
   "cell_type": "markdown",
   "metadata": {
    "id": "UZXjlass3ARu"
   },
   "source": [
    "\n",
    "# **1. Basic Array Manipulation:**\n"
   ]
  },
  {
   "cell_type": "markdown",
   "metadata": {
    "id": "tDWPQRm23C7o"
   },
   "source": [
    "Create a 1D array with values ranging from 0 to 9.\n"
   ]
  },
  {
   "cell_type": "code",
   "execution_count": 56,
   "metadata": {
    "id": "OvGF66_02Q8H"
   },
   "outputs": [
    {
     "data": {
      "text/plain": [
       "array([0, 1, 2, 3, 4, 5, 6, 7, 8, 9])"
      ]
     },
     "execution_count": 56,
     "metadata": {},
     "output_type": "execute_result"
    }
   ],
   "source": [
    "import numpy as np\n",
    "\n",
    "np_arr = np.array([0,1,2,3,4,5,6,7,8,9])\n",
    "np_arr"
   ]
  },
  {
   "cell_type": "markdown",
   "metadata": {
    "id": "UYzIzPyB3Ne3"
   },
   "source": [
    "Reshape the array into a 3x3 matrix.\n",
    "\n",
    "Explore Reshape Function"
   ]
  },
  {
   "cell_type": "code",
   "execution_count": null,
   "metadata": {},
   "outputs": [],
   "source": [
    "reshape = np_arr.reshape(3,3) #In my array it have 10 elements which can not reshape by 3 x 3\n",
    "reshape"
   ]
  },
  {
   "cell_type": "code",
   "execution_count": 58,
   "metadata": {},
   "outputs": [
    {
     "data": {
      "text/plain": [
       "array([[0, 1, 2],\n",
       "       [3, 4, 5],\n",
       "       [6, 7, 8]])"
      ]
     },
     "execution_count": 58,
     "metadata": {},
     "output_type": "execute_result"
    }
   ],
   "source": [
    "new_arr = np.array([0,1,2,3,4,5,6,7,8]) # This is new array which can reshape by 3 \n",
    "new_reshape = new_arr.reshape(3, 3)\n",
    "new_reshape"
   ]
  },
  {
   "cell_type": "markdown",
   "metadata": {
    "id": "KmhRK9Ti3Phn"
   },
   "source": [
    "Access the element at the second row, second column.\n"
   ]
  },
  {
   "cell_type": "code",
   "execution_count": 59,
   "metadata": {
    "id": "Dk_a1D3A3ijN"
   },
   "outputs": [
    {
     "data": {
      "text/plain": [
       "4"
      ]
     },
     "execution_count": 59,
     "metadata": {},
     "output_type": "execute_result"
    }
   ],
   "source": [
    "new_reshape[1,1]"
   ]
  },
  {
   "cell_type": "markdown",
   "metadata": {
    "id": "NlH7N-fZ36wc"
   },
   "source": [
    "Perform element-wise addition, subtraction, multiplication, and division on two arrays [1, 2, 3] and [4, 5, 6].\n"
   ]
  },
  {
   "cell_type": "code",
   "execution_count": 60,
   "metadata": {
    "id": "PkgNSo1a37kP"
   },
   "outputs": [
    {
     "name": "stdout",
     "output_type": "stream",
     "text": [
      "addition [5 7 9]\n",
      "subtraction [-3 -3 -3]\n",
      "multiplication [ 4 10 18]\n",
      "division [0.25 0.4  0.5 ]\n"
     ]
    }
   ],
   "source": [
    "Array1 = np.array([1,2,3])\n",
    "Array2 = np.array([4,5,6])\n",
    "\n",
    "add = np.add(Array1,Array2)\n",
    "sub = np.subtract(Array1,Array2)\n",
    "multi = np.multiply(Array1,Array2)\n",
    "div = np.divide(Array1,Array2)\n",
    "\n",
    "print(f'addition {add}')\n",
    "print(f'subtraction {sub}')\n",
    "print(f'multiplication {multi}')\n",
    "print(f'division {div}')"
   ]
  },
  {
   "cell_type": "markdown",
   "metadata": {
    "id": "JVt4zxkk8e0P"
   },
   "source": [
    "Find the sum, mean, and standard deviation of the array [1, 2, 3, 4, 5].\n"
   ]
  },
  {
   "cell_type": "code",
   "execution_count": 61,
   "metadata": {
    "id": "mQZxaZ0c8nhh"
   },
   "outputs": [
    {
     "name": "stdout",
     "output_type": "stream",
     "text": [
      "Sum = 15\n",
      "Mean = 3.0\n",
      "Std = 1.4142135623730951\n"
     ]
    }
   ],
   "source": [
    "arr = np.array([1, 2, 3, 4, 5])\n",
    "sum = np.sum(arr)\n",
    "mean = np.mean(arr)\n",
    "std = np.std(arr)\n",
    "\n",
    "print(f'Sum = {sum}')\n",
    "print(f'Mean = {mean}')\n",
    "print(f'Std = {std}')\n"
   ]
  },
  {
   "cell_type": "markdown",
   "metadata": {
    "id": "ji2XvW0Z8nn5"
   },
   "source": [
    "Reshape the array [1, 2, 3, 4, 5, 6] into a 2x3 array.\n",
    "\n",
    "Explore Reshape"
   ]
  },
  {
   "cell_type": "code",
   "execution_count": 62,
   "metadata": {
    "id": "FNbYlzyI8rAx"
   },
   "outputs": [
    {
     "data": {
      "text/plain": [
       "array([[1, 2, 3],\n",
       "       [4, 5, 6]])"
      ]
     },
     "execution_count": 62,
     "metadata": {},
     "output_type": "execute_result"
    }
   ],
   "source": [
    "arr1 = np.array([1, 2, 3, 4, 5, 6])\n",
    "re_arr1 = arr1.reshape(2,3)\n",
    "re_arr1"
   ]
  },
  {
   "cell_type": "markdown",
   "metadata": {
    "id": "OE-5o0th3SU4"
   },
   "source": [
    "\n",
    "# **2. Indexing and Slicing:**\n"
   ]
  },
  {
   "cell_type": "markdown",
   "metadata": {
    "id": "yqNKWBOl3an3"
   },
   "source": [
    "Create a 5x5 array with random integers.\n"
   ]
  },
  {
   "cell_type": "code",
   "execution_count": 63,
   "metadata": {
    "id": "G-kX4nme2RBn"
   },
   "outputs": [
    {
     "data": {
      "text/plain": [
       "array([[3, 5, 2, 5, 3],\n",
       "       [4, 6, 2, 3, 0],\n",
       "       [6, 2, 0, 2, 5],\n",
       "       [7, 1, 5, 8, 4],\n",
       "       [3, 1, 6, 0, 3]])"
      ]
     },
     "execution_count": 63,
     "metadata": {},
     "output_type": "execute_result"
    }
   ],
   "source": [
    "Size = (5,5)\n",
    "random_arr = np.random.randint(0,10, size = Size)\n",
    "random_arr"
   ]
  },
  {
   "cell_type": "markdown",
   "metadata": {
    "id": "LlilKAMF3bMX"
   },
   "source": [
    "Replace all values in the sub-array with a specific value.\n"
   ]
  },
  {
   "cell_type": "code",
   "execution_count": 64,
   "metadata": {
    "id": "gShfqRGm2REI"
   },
   "outputs": [
    {
     "data": {
      "text/plain": [
       "array([[1, 8, 0, 9, 4],\n",
       "       [4, 6, 6, 6, 0],\n",
       "       [3, 6, 6, 6, 6]])"
      ]
     },
     "execution_count": 64,
     "metadata": {},
     "output_type": "execute_result"
    }
   ],
   "source": [
    "arr2 = np.array([[1, 8, 0, 9, 4],\n",
    "                [4, 2, 2, 8, 0],\n",
    "                [3, 8, 4, 4, 6]])\n",
    "\n",
    "specific_value = 6\n",
    "\n",
    "arr2[1: ,1:4] = specific_value\n",
    "arr2"
   ]
  },
  {
   "cell_type": "markdown",
   "metadata": {
    "id": "1kUY7u023gfF"
   },
   "source": [
    "Extract the subarray [[3, 4], [7, 8]] from the array [[1, 2], [3, 4], [5, 6], [7, 8]].\n"
   ]
  },
  {
   "cell_type": "code",
   "execution_count": 65,
   "metadata": {
    "id": "UmgqjBwC3_4V"
   },
   "outputs": [
    {
     "data": {
      "text/plain": [
       "array([[3, 4],\n",
       "       [7, 8]])"
      ]
     },
     "execution_count": 65,
     "metadata": {},
     "output_type": "execute_result"
    }
   ],
   "source": [
    "import numpy as np\n",
    "\n",
    "\n",
    "arr3 = np.array([[1, 2], [3, 4], [5, 6], [7, 8]])\n",
    "arr3[1::2]\n"
   ]
  },
  {
   "cell_type": "markdown",
   "metadata": {
    "id": "vPrCHS_O3jK9"
   },
   "source": [
    "\n",
    "# **3. Broadcasting:**"
   ]
  },
  {
   "cell_type": "markdown",
   "metadata": {
    "id": "W3WUM5Cc3phc"
   },
   "source": [
    "Create a 2D array of shape (3, 3) with values from 0 to 2.\n"
   ]
  },
  {
   "cell_type": "code",
   "execution_count": 66,
   "metadata": {
    "id": "PxJrAlFW2RGw"
   },
   "outputs": [
    {
     "data": {
      "text/plain": [
       "array([[0, 1, 2],\n",
       "       [0, 1, 2],\n",
       "       [0, 1, 2]])"
      ]
     },
     "execution_count": 66,
     "metadata": {},
     "output_type": "execute_result"
    }
   ],
   "source": [
    "array4 = np.array([\n",
    "    [0, 1, 2],\n",
    "    [0, 1, 2],\n",
    "    [0, 1, 2]\n",
    "])\n",
    "array4"
   ]
  },
  {
   "cell_type": "markdown",
   "metadata": {
    "id": "J5XPwN3A3rXG"
   },
   "source": [
    "Add a 1D array of shape (3,) to each row of the 2D array using broadcasting.\n"
   ]
  },
  {
   "cell_type": "code",
   "execution_count": 67,
   "metadata": {
    "id": "k4FM2g_c2RJv"
   },
   "outputs": [
    {
     "data": {
      "text/plain": [
       "array([[5, 5, 8],\n",
       "       [5, 5, 8],\n",
       "       [5, 5, 8]])"
      ]
     },
     "execution_count": 67,
     "metadata": {},
     "output_type": "execute_result"
    }
   ],
   "source": [
    "array5 = np.array([5,4,6])\n",
    "arr4_5 = array4 + array5\n",
    "arr4_5"
   ]
  },
  {
   "cell_type": "markdown",
   "metadata": {
    "id": "9CbtQS3w4PA3"
   },
   "source": [
    "# **4. Concatenation and Splitting**"
   ]
  },
  {
   "cell_type": "markdown",
   "metadata": {
    "id": "yMg_umVy4ILG"
   },
   "source": [
    "\n",
    "1.   Create two 2D arrays of shape (3, 3) with random integers.\n",
    "2.   Concatenate them horizontally and vertically.\n",
    "3.   Split the concatenated arrays back into the original arrays.\n"
   ]
  },
  {
   "cell_type": "code",
   "execution_count": 68,
   "metadata": {
    "id": "wXiCa2Sn8XHP"
   },
   "outputs": [
    {
     "name": "stdout",
     "output_type": "stream",
     "text": [
      "Array 1\n",
      "[[8 4 4]\n",
      " [1 6 5]\n",
      " [0 0 5]]\n",
      "Array 2\n",
      "[[10 12 13]\n",
      " [10 14 12]\n",
      " [18 19 14]]\n"
     ]
    }
   ],
   "source": [
    "arr2D_1 = np.random.randint(0, 10, size=(3, 3))\n",
    "arr2D_2 = np.random.randint(10, 20, size=(3, 3))\n",
    "\n",
    "print('Array 1')\n",
    "print(arr2D_1)\n",
    "print('Array 2')\n",
    "print(arr2D_2)\n"
   ]
  },
  {
   "cell_type": "code",
   "execution_count": 69,
   "metadata": {
    "id": "yAiYe6vj8XSW"
   },
   "outputs": [
    {
     "name": "stdout",
     "output_type": "stream",
     "text": [
      "Horizontally\n",
      "[[ 8  4  4 10 12 13]\n",
      " [ 1  6  5 10 14 12]\n",
      " [ 0  0  5 18 19 14]]\n",
      "Vertically\n",
      "[[ 8  4  4]\n",
      " [ 1  6  5]\n",
      " [ 0  0  5]\n",
      " [10 12 13]\n",
      " [10 14 12]\n",
      " [18 19 14]]\n"
     ]
    }
   ],
   "source": [
    "h_arr = np.hstack((arr2D_1, arr2D_2))\n",
    "v_arr = np.vstack((arr2D_1, arr2D_2))\n",
    "\n",
    "\n",
    "print(\"Horizontally\")\n",
    "print(h_arr)\n",
    "print(\"Vertically\")\n",
    "print(v_arr)"
   ]
  },
  {
   "cell_type": "code",
   "execution_count": 70,
   "metadata": {
    "id": "lgMsjt-J8XZK"
   },
   "outputs": [
    {
     "name": "stdout",
     "output_type": "stream",
     "text": [
      "\n",
      "Horizontally Split Arrays:\n",
      "[[8 4 4]\n",
      " [1 6 5]\n",
      " [0 0 5]]\n",
      "[[10 12 13]\n",
      " [10 14 12]\n",
      " [18 19 14]]\n",
      "\n",
      "Vertically Split Arrays:\n",
      "[[8 4 4]\n",
      " [1 6 5]\n",
      " [0 0 5]]\n",
      "[[10 12 13]\n",
      " [10 14 12]\n",
      " [18 19 14]]\n"
     ]
    }
   ],
   "source": [
    "h_split1, h_split2 = np.hsplit(h_arr, 2)\n",
    "print(\"\\nHorizontally Split Arrays:\")\n",
    "print(h_split1)\n",
    "print(h_split2)\n",
    "\n",
    "v_split1, v_split2 = np.vsplit(v_arr, 2)\n",
    "print(\"\\nVertically Split Arrays:\")\n",
    "print(v_split1)\n",
    "print(v_split2)"
   ]
  },
  {
   "cell_type": "markdown",
   "metadata": {
    "id": "2CliNLH8YG3j"
   },
   "source": [
    "# **Bonus Question**\n",
    "\n",
    "Find mode of this array  = [1,2,1,2,3,4,5,6,8,9,1,2,2,22,21,1,1,1,1,2,5]\n",
    "\n",
    "Hint: Use count and also loop"
   ]
  },
  {
   "cell_type": "code",
   "execution_count": 71,
   "metadata": {
    "id": "JGe2Qe3SYaHq"
   },
   "outputs": [
    {
     "name": "stdout",
     "output_type": "stream",
     "text": [
      "1\n"
     ]
    }
   ],
   "source": [
    "array6 = [1, 2, 1, 2, 3, 4, 5, 6, 8, 9, 1, 2, 2, 22, 21, 1, 1, 1, 1, 2, 5]\n",
    "\n",
    "mode_num = None\n",
    "count_num = 0\n",
    "\n",
    "for mode in array6:\n",
    "    count = array6.count(mode)\n",
    "    if count > count_num:\n",
    "        count_num = count\n",
    "        mode_num = mode\n",
    "\n",
    "print( mode_num)\n"
   ]
  },
  {
   "cell_type": "code",
   "execution_count": 72,
   "metadata": {},
   "outputs": [
    {
     "name": "stdout",
     "output_type": "stream",
     "text": [
      "1\n"
     ]
    }
   ],
   "source": [
    "from scipy.stats import mode\n",
    "\n",
    "array6 = np.array([1, 2, 1, 2, 3, 4, 5, 6, 8, 9, 1, 2, 2, 22, 21, 1, 1, 1, 1, 2, 5])\n",
    "\n",
    "mode_result = mode(array6)\n",
    "print(mode_result[0])\n"
   ]
  },
  {
   "cell_type": "markdown",
   "metadata": {
    "id": "1t9n5GQdYbHN"
   },
   "source": [
    "# **Notes**\n",
    "\n",
    "\n",
    "1.   All the Questions carry Equal Points (2 points)\n",
    "\n",
    "2.   Bonus Question carry 5 points\n",
    "\n",
    "3.   Review lecture for any query\n",
    "\n",
    "Good Luck!\n",
    "\n"
   ]
  },
  {
   "cell_type": "code",
   "execution_count": null,
   "metadata": {
    "id": "yxT9-gJfYugV"
   },
   "outputs": [],
   "source": []
  }
 ],
 "metadata": {
  "colab": {
   "provenance": []
  },
  "kernelspec": {
   "display_name": "Python 3 (ipykernel)",
   "language": "python",
   "name": "python3"
  },
  "language_info": {
   "codemirror_mode": {
    "name": "ipython",
    "version": 3
   },
   "file_extension": ".py",
   "mimetype": "text/x-python",
   "name": "python",
   "nbconvert_exporter": "python",
   "pygments_lexer": "ipython3",
   "version": "3.11.7"
  }
 },
 "nbformat": 4,
 "nbformat_minor": 4
}
